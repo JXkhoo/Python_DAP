{
 "cells": [
  {
   "cell_type": "code",
   "execution_count": 1,
   "metadata": {},
   "outputs": [
    {
     "name": "stdout",
     "output_type": "stream",
     "text": [
      "[1 0 0 1 1 1 0 1 0 1 1 1 1 1 1 1 1 1 1 1 0 1 0 0 1 1 1 1 1 1 1 0 1 1 1 1 0\n",
      " 0 0 1 1 1 1 1 1 1 1 1 1 1 1 0 0 0 0 0 1 1 1 1 1 1 1 0 0 0 1 1 1 1]\n",
      "\n",
      "['Ali' 'Ahmad' 'Beng' 'Chris' 'Sita' 'Marion' 'Stephen' 'Cobby' 'Akmal'\n",
      " 'Nita']\n",
      "\n",
      "['Sunday' 'Monday' 'Tuesday' 'Wednesday' 'Thursday' 'Friday' 'Saturday']\n"
     ]
    }
   ],
   "source": [
    "import numpy as np\n",
    "\n",
    "attendance = np.array([1,0,0,1,1,1,0,1,0,1,1,1,1,1,1,1,1,1,1,1,0,1,0,0,1,1,1,1,1,1,1,0,1,1,1,1,0,0,0,1,1,1,1,1,1,1,1,1,1,1,1,0,0,0,0,0,1,1,1,1,1,1,1,0,0,0,1,1,1,1])\n",
    "name_list = np.array([\"Ali\",\"Ahmad\",\"Beng\",\"Chris\",\"Sita\",\"Marion\",\"Stephen\",\"Cobby\",\"Akmal\",\"Nita\"])\n",
    "day_list = np.array([\"Sunday\",\"Monday\",\"Tuesday\",\"Wednesday\",\"Thursday\",\"Friday\",\"Saturday\"])\n",
    "\n",
    "print(attendance)\n",
    "print()\n",
    "print(name_list)\n",
    "print()\n",
    "print(day_list)"
   ]
  },
  {
   "cell_type": "markdown",
   "metadata": {},
   "source": [
    "## Description of the data:\n",
    "Given a list of attendance data of an event for 10 students for 1 week where **1 indicates the student attends** for the event, while **0 indicates the student is absent**. The data is given in a simple list described as follows:\n",
    "\n",
    "<br>\n",
    "<img src=\"F1.png\">\n",
    "\n",
    "The namelist and the daylist also given. The order of the day and name in the attendance data are complement to both variables. "
   ]
  },
  {
   "cell_type": "code",
   "execution_count": 2,
   "metadata": {},
   "outputs": [
    {
     "data": {
      "text/plain": [
       "array([[1, 0, 0, 1, 1, 1, 0],\n",
       "       [1, 0, 1, 1, 1, 1, 1],\n",
       "       [1, 1, 1, 1, 1, 1, 0],\n",
       "       [1, 0, 0, 1, 1, 1, 1],\n",
       "       [1, 1, 1, 0, 1, 1, 1],\n",
       "       [1, 0, 0, 0, 1, 1, 1],\n",
       "       [1, 1, 1, 1, 1, 1, 1],\n",
       "       [1, 1, 0, 0, 0, 0, 0],\n",
       "       [1, 1, 1, 1, 1, 1, 1],\n",
       "       [0, 0, 0, 1, 1, 1, 1]])"
      ]
     },
     "execution_count": 2,
     "metadata": {},
     "output_type": "execute_result"
    }
   ],
   "source": [
    "# Now, based on the given attendance data, create a 2D numpy array (named: attendance_arr) where:\n",
    "# ROW represents each student\n",
    "# COLUMN represents each day\n",
    "# Write the code at below:\n",
    "attendance_arr = attendance.reshape(10,7)\n",
    "attendance_arr\n"
   ]
  },
  {
   "cell_type": "code",
   "execution_count": 5,
   "metadata": {
    "scrolled": true
   },
   "outputs": [
    {
     "name": "stdout",
     "output_type": "stream",
     "text": [
      "{'Ahmad': 6, 'Beng': 6, 'Chris': 5, 'Sita': 6, 'Stephen': 7, 'Akmal': 7}\n"
     ]
    }
   ],
   "source": [
    "# Write a fuction that returns the list of names, and their corresponding total attendance based on a filter\n",
    "# The function should accept at least ONE argument, which is the no. of days. You should return the results\n",
    "# filtered based on the no. of days. \n",
    "# E.g.: get the names and their total attendance for those who attended more than 4 days\n",
    "filtered_list = {}\n",
    "def get_attendance(days):\n",
    "    for i in range(len(attendance_arr)):\n",
    "        count=0\n",
    "        for j in range(len(attendance_arr[i])):\n",
    "            if attendance_arr[i][j]==1:\n",
    "                count=count+1\n",
    "        if count>days:\n",
    "            filtered_list.update({name_list[i]:count})\n",
    "            \n",
    "    return filtered_list     \n",
    "     \n",
    "list = get_attendance(4)\n",
    "print(list)"
   ]
  },
  {
   "cell_type": "code",
   "execution_count": 6,
   "metadata": {},
   "outputs": [
    {
     "name": "stdout",
     "output_type": "stream",
     "text": [
      "[1 1 1 1 1 1 1]\n"
     ]
    }
   ],
   "source": [
    "# Write a function that returns the 7-day attendance for a specific person.\n",
    "# The function should accept at least ONE argument, which is the name of the person. You should return the results\n",
    "# based on the name.\n",
    "# E.g.: get the 7-day attendance for \"Akmal\"\n",
    "\n",
    "def person_attendance(name):\n",
    "    x = 0\n",
    "    for i in range(len(name_list)):\n",
    "        if name_list[i]==name:\n",
    "            x = i\n",
    "    return attendance_arr[x]\n",
    "\n",
    "person = person_attendance(\"Akmal\")\n",
    "print(person)"
   ]
  },
  {
   "cell_type": "code",
   "execution_count": 7,
   "metadata": {},
   "outputs": [
    {
     "name": "stdout",
     "output_type": "stream",
     "text": [
      "['Sunday', 'Wednesday', 'Thursday', 'Friday', 'Saturday']\n"
     ]
    }
   ],
   "source": [
    "# Write a fuction that returns the list of days, and the corresponding total attendance based on a filter\n",
    "# The function should accept at least ONE argument, which is the no. of attendees. You should return the results\n",
    "# filtered based on the no. of attendees. \n",
    "# E.g.: get the list of days and the total attendance for where if the attendees exceed 5 people. \n",
    "def daily_attendance(students):\n",
    "    list_of_day = []\n",
    "    attendee = np.sum(attendance_arr, axis = 0)\n",
    "   \n",
    "    for i in range(len(attendee)):\n",
    "        if attendee[i]>students:\n",
    "            list_of_day.append(day_list[i])   \n",
    "    return list_of_day\n",
    "    \n",
    "day_filtered_list = daily_attendance(6)\n",
    "print(day_filtered_list)"
   ]
  },
  {
   "cell_type": "code",
   "execution_count": 8,
   "metadata": {},
   "outputs": [
    {
     "name": "stdout",
     "output_type": "stream",
     "text": [
      "{'Sunday': 90.0, 'Monday': 50.0, 'Tuesday': 50.0, 'Wednesday': 70.0, 'Thursday': 90.0, 'Friday': 90.0, 'Saturday': 70.0}\n"
     ]
    }
   ],
   "source": [
    "# Write a function that returns the percentage of attendance for each day.\n",
    "def calc_day():\n",
    "    percent_list = {}\n",
    "    attendance = np.sum(attendance_arr, axis = 0)\n",
    "    \n",
    "    for i in range(len(attendance)):\n",
    "        percent = (attendance[i]/10)*100\n",
    "        percent_list.update({day_list[i]:percent})\n",
    "    return percent_list\n",
    "        \n",
    "print(calc_day())\n"
   ]
  },
  {
   "cell_type": "code",
   "execution_count": 9,
   "metadata": {},
   "outputs": [
    {
     "name": "stdout",
     "output_type": "stream",
     "text": [
      "{'Ali': 57.14, 'Ahmad': 85.71, 'Beng': 85.71, 'Chris': 71.43, 'Sita': 85.71, 'Marion': 57.14, 'Stephen': 100.0, 'Cobby': 28.57, 'Akmal': 100.0, 'Nita': 57.14}\n"
     ]
    }
   ],
   "source": [
    "# Write a function that returns the percentage of attendance for each student.\n",
    "def calc_student():\n",
    "    percent_list = {}\n",
    "    for i in range(len(attendance_arr)):\n",
    "        count=0\n",
    "        for j in range(len(attendance_arr[i])):\n",
    "            if attendance_arr[i][j]==1:\n",
    "                count=count+1\n",
    "                percent=round((count/7)*100,2)\n",
    "                percent_list.update({name_list[i]:percent})\n",
    "    return percent_list \n",
    "\n",
    "print(calc_student())"
   ]
  },
  {
   "cell_type": "code",
   "execution_count": null,
   "metadata": {},
   "outputs": [],
   "source": []
  }
 ],
 "metadata": {
  "kernelspec": {
   "display_name": "Python 3",
   "language": "python",
   "name": "python3"
  },
  "language_info": {
   "codemirror_mode": {
    "name": "ipython",
    "version": 3
   },
   "file_extension": ".py",
   "mimetype": "text/x-python",
   "name": "python",
   "nbconvert_exporter": "python",
   "pygments_lexer": "ipython3",
   "version": "3.7.6"
  }
 },
 "nbformat": 4,
 "nbformat_minor": 4
}
